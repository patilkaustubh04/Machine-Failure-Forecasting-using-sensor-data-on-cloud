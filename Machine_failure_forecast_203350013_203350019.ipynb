{
  "nbformat": 4,
  "nbformat_minor": 0,
  "metadata": {
    "kernelspec": {
      "display_name": "Python 3",
      "language": "python",
      "name": "python3"
    },
    "language_info": {
      "codemirror_mode": {
        "name": "ipython",
        "version": 3
      },
      "file_extension": ".py",
      "mimetype": "text/x-python",
      "name": "python",
      "nbconvert_exporter": "python",
      "pygments_lexer": "ipython3",
      "version": "3.8.5"
    },
    "colab": {
      "name": "Machine_failure_forecast.ipynb",
      "provenance": [],
      "collapsed_sections": []
    }
  },
  "cells": [
    {
      "cell_type": "markdown",
      "metadata": {
        "id": "sPNb2-9x-SEb"
      },
      "source": [
        "# Machine failure forecast using sensor data\n",
        "## 1 Setting up the environment\n",
        "### 1.1 Importing libraries"
      ]
    },
    {
      "cell_type": "code",
      "metadata": {
        "id": "ttHRlEX_-SEi"
      },
      "source": [
        "# Import libraries\n",
        "\n",
        "import pandas as pd\n",
        "import numpy as np\n",
        "import seaborn as sns"
      ],
      "execution_count": 8,
      "outputs": []
    },
    {
      "cell_type": "code",
      "metadata": {
        "id": "pBYalnGb-SEj"
      },
      "source": [
        "# ML Libraries\n",
        "from sklearn.model_selection import train_test_split\n",
        "from sklearn.linear_model import LogisticRegression\n",
        "from sklearn.ensemble import RandomForestRegressor\n",
        "from sklearn import metrics"
      ],
      "execution_count": 29,
      "outputs": []
    },
    {
      "cell_type": "markdown",
      "metadata": {
        "id": "lvN-w0km-SEj"
      },
      "source": [
        "# 2 Creating functions for models"
      ]
    },
    {
      "cell_type": "code",
      "metadata": {
        "id": "JNCAYmyU-SEj"
      },
      "source": [
        "# To extract names of column in dataset\n",
        "def data_col(data):\n",
        "    return list(data.columns.values)\n",
        "\n",
        "#train logistic regression model\n",
        "def train_log_reg(x_val, y_val):\n",
        "    log_reg = LogisticRegression()\n",
        "    log_reg.fit(x_val, y_val)\n",
        "    return log_reg\n",
        "\n",
        "#train random forest model\n",
        "# Importing the model\n",
        "# Initiating model with 1000 decision trees\n",
        "def train_rf(x_val, y_val):\n",
        "    rf = RandomForestRegressor(n_estimators = 1000)\n",
        "    rf.fit(x_val, y_val)\n",
        "    return rf\n",
        "\n",
        "\n",
        "# Function to return Predicted values\n",
        "def score_data(trained_model, x_val):\n",
        "    ypredict = trained_model.predict(x_val)\n",
        "    return ypredict\n",
        "\n",
        "#Prediction accuracy calculation\n",
        "def model_accuracy(trained_model, variables, targets):\n",
        "    accuracy_score = trained_model.score(variables, targets)\n",
        "    return accuracy_score\n",
        "\n",
        "# Confusion matrix function\n",
        "def confusion_matrix(actfail, predictfail):\n",
        "  # Compute Confusion matrix\n",
        "  print(\"Actual, Predicted Observations:  \",len(actfail), len(predictfail))\n",
        "  anpn = 0\n",
        "  anpy = 0\n",
        "  aypn = 0\n",
        "  aypy = 0\n",
        "  \n",
        "  for i in range(len(actfail)):\n",
        "      if (actfail[i]==0 and predictfail[i]==0):\n",
        "          anpn = anpn + 1\n",
        "      elif (actfail[i]==0 and predictfail[i]==1):\n",
        "          anpy = anpy + 1\n",
        "      elif (actfail[i]==1 and predictfail[i]==0):\n",
        "          aypn = aypn + 1\n",
        "      else:\n",
        "          aypy = aypy + 1\n",
        "\n",
        "  print (\"--------------------------------------------\")\n",
        "  print (\"Confusion Matrix\")\n",
        "  print (\"--------------------------------------------\")\n",
        "  print (\"              \", \"Predicted N\", \"Predicted Y\")\n",
        "  print (\"Actual N      \", anpn,\"          \", anpy) \n",
        "  print (\"Actual Y      \", aypn,\"          \", aypy)\n",
        "  print (\"--------------------------------------------\")\n",
        "  print (\"Total observations  :  \", anpn+anpy+aypn+aypy)\n",
        "  print (\"False Positives     :  \", anpy)\n",
        "  print (\"False Negatives     :  \", aypn)\n",
        "  print (\"Overall Accuracy    :  \", round((float(anpn+aypy)/float(anpn+anpy+aypn+aypy))*100, 2), \"%\")\n",
        "  print (\"Sensitivity/Recall  :  \", round((float(aypy)/float(aypn+aypy))*100, 2), \"%\")\n",
        "  print (\"Specificity         :  \", round((float(anpn)/float(anpn+anpy))*100, 2), \"%\")\n",
        "  print (\"Precision           :  \", round((float(aypy)/float(anpy+aypy))*100, 2), \"%\")\n",
        "  print (\"--------------------------------------------\") "
      ],
      "execution_count": 30,
      "outputs": []
    },
    {
      "cell_type": "markdown",
      "metadata": {
        "id": "kesZ2t0L-SEk"
      },
      "source": [
        "# 3 Read the data"
      ]
    },
    {
      "cell_type": "code",
      "metadata": {
        "colab": {
          "base_uri": "https://localhost:8080/",
          "height": 404
        },
        "id": "ntnVnN65-SEk",
        "outputId": "76ab48dd-db7b-4849-ad69-b76aea1b9f98"
      },
      "source": [
        "data_df = pd.read_csv('machine_dataset.csv')\n",
        "display(data_df)"
      ],
      "execution_count": 11,
      "outputs": [
        {
          "output_type": "display_data",
          "data": {
            "text/html": [
              "<div>\n",
              "<style scoped>\n",
              "    .dataframe tbody tr th:only-of-type {\n",
              "        vertical-align: middle;\n",
              "    }\n",
              "\n",
              "    .dataframe tbody tr th {\n",
              "        vertical-align: top;\n",
              "    }\n",
              "\n",
              "    .dataframe thead th {\n",
              "        text-align: right;\n",
              "    }\n",
              "</style>\n",
              "<table border=\"1\" class=\"dataframe\">\n",
              "  <thead>\n",
              "    <tr style=\"text-align: right;\">\n",
              "      <th></th>\n",
              "      <th>id</th>\n",
              "      <th>a</th>\n",
              "      <th>b</th>\n",
              "      <th>c</th>\n",
              "      <th>d</th>\n",
              "      <th>e</th>\n",
              "      <th>outpressure</th>\n",
              "      <th>inpressure</th>\n",
              "      <th>fail</th>\n",
              "    </tr>\n",
              "  </thead>\n",
              "  <tbody>\n",
              "    <tr>\n",
              "      <th>0</th>\n",
              "      <td>1</td>\n",
              "      <td>7</td>\n",
              "      <td>7</td>\n",
              "      <td>1</td>\n",
              "      <td>6</td>\n",
              "      <td>6</td>\n",
              "      <td>36</td>\n",
              "      <td>3</td>\n",
              "      <td>1</td>\n",
              "    </tr>\n",
              "    <tr>\n",
              "      <th>1</th>\n",
              "      <td>2</td>\n",
              "      <td>1</td>\n",
              "      <td>3</td>\n",
              "      <td>3</td>\n",
              "      <td>5</td>\n",
              "      <td>1</td>\n",
              "      <td>20</td>\n",
              "      <td>4</td>\n",
              "      <td>0</td>\n",
              "    </tr>\n",
              "    <tr>\n",
              "      <th>2</th>\n",
              "      <td>3</td>\n",
              "      <td>7</td>\n",
              "      <td>2</td>\n",
              "      <td>2</td>\n",
              "      <td>6</td>\n",
              "      <td>1</td>\n",
              "      <td>24</td>\n",
              "      <td>6</td>\n",
              "      <td>0</td>\n",
              "    </tr>\n",
              "    <tr>\n",
              "      <th>3</th>\n",
              "      <td>4</td>\n",
              "      <td>4</td>\n",
              "      <td>3</td>\n",
              "      <td>4</td>\n",
              "      <td>5</td>\n",
              "      <td>1</td>\n",
              "      <td>28</td>\n",
              "      <td>6</td>\n",
              "      <td>0</td>\n",
              "    </tr>\n",
              "    <tr>\n",
              "      <th>4</th>\n",
              "      <td>5</td>\n",
              "      <td>7</td>\n",
              "      <td>5</td>\n",
              "      <td>6</td>\n",
              "      <td>4</td>\n",
              "      <td>0</td>\n",
              "      <td>68</td>\n",
              "      <td>6</td>\n",
              "      <td>0</td>\n",
              "    </tr>\n",
              "    <tr>\n",
              "      <th>...</th>\n",
              "      <td>...</td>\n",
              "      <td>...</td>\n",
              "      <td>...</td>\n",
              "      <td>...</td>\n",
              "      <td>...</td>\n",
              "      <td>...</td>\n",
              "      <td>...</td>\n",
              "      <td>...</td>\n",
              "      <td>...</td>\n",
              "    </tr>\n",
              "    <tr>\n",
              "      <th>939</th>\n",
              "      <td>940</td>\n",
              "      <td>7</td>\n",
              "      <td>7</td>\n",
              "      <td>1</td>\n",
              "      <td>6</td>\n",
              "      <td>4</td>\n",
              "      <td>73</td>\n",
              "      <td>6</td>\n",
              "      <td>1</td>\n",
              "    </tr>\n",
              "    <tr>\n",
              "      <th>940</th>\n",
              "      <td>941</td>\n",
              "      <td>7</td>\n",
              "      <td>5</td>\n",
              "      <td>2</td>\n",
              "      <td>6</td>\n",
              "      <td>6</td>\n",
              "      <td>50</td>\n",
              "      <td>6</td>\n",
              "      <td>1</td>\n",
              "    </tr>\n",
              "    <tr>\n",
              "      <th>941</th>\n",
              "      <td>942</td>\n",
              "      <td>3</td>\n",
              "      <td>6</td>\n",
              "      <td>2</td>\n",
              "      <td>7</td>\n",
              "      <td>5</td>\n",
              "      <td>43</td>\n",
              "      <td>6</td>\n",
              "      <td>1</td>\n",
              "    </tr>\n",
              "    <tr>\n",
              "      <th>942</th>\n",
              "      <td>943</td>\n",
              "      <td>6</td>\n",
              "      <td>6</td>\n",
              "      <td>2</td>\n",
              "      <td>5</td>\n",
              "      <td>6</td>\n",
              "      <td>46</td>\n",
              "      <td>7</td>\n",
              "      <td>1</td>\n",
              "    </tr>\n",
              "    <tr>\n",
              "      <th>943</th>\n",
              "      <td>944</td>\n",
              "      <td>7</td>\n",
              "      <td>4</td>\n",
              "      <td>2</td>\n",
              "      <td>6</td>\n",
              "      <td>3</td>\n",
              "      <td>61</td>\n",
              "      <td>7</td>\n",
              "      <td>1</td>\n",
              "    </tr>\n",
              "  </tbody>\n",
              "</table>\n",
              "<p>944 rows × 9 columns</p>\n",
              "</div>"
            ],
            "text/plain": [
              "      id  a  b  c  d  e  outpressure  inpressure  fail\n",
              "0      1  7  7  1  6  6           36           3     1\n",
              "1      2  1  3  3  5  1           20           4     0\n",
              "2      3  7  2  2  6  1           24           6     0\n",
              "3      4  4  3  4  5  1           28           6     0\n",
              "4      5  7  5  6  4  0           68           6     0\n",
              "..   ... .. .. .. .. ..          ...         ...   ...\n",
              "939  940  7  7  1  6  4           73           6     1\n",
              "940  941  7  5  2  6  6           50           6     1\n",
              "941  942  3  6  2  7  5           43           6     1\n",
              "942  943  6  6  2  5  6           46           7     1\n",
              "943  944  7  4  2  6  3           61           7     1\n",
              "\n",
              "[944 rows x 9 columns]"
            ]
          },
          "metadata": {
            "tags": []
          }
        }
      ]
    },
    {
      "cell_type": "code",
      "metadata": {
        "colab": {
          "base_uri": "https://localhost:8080/"
        },
        "id": "90yzca71-SEl",
        "outputId": "720ea46a-3fe0-49ca-dd72-bd74bf8cb39c"
      },
      "source": [
        "# Printing the dataset column names\n",
        "datacol = data_col(data_df)\n",
        "print(\"Dataset columns : \", list(datacol))"
      ],
      "execution_count": 14,
      "outputs": [
        {
          "output_type": "stream",
          "text": [
            "Dataset columns :  ['id', 'a', 'b', 'c', 'd', 'e', 'outpressure', 'inpressure', 'fail']\n"
          ],
          "name": "stdout"
        }
      ]
    },
    {
      "cell_type": "code",
      "metadata": {
        "id": "NOK6Ds3lCD6f"
      },
      "source": [
        "# Features\n",
        "col_to_retain = ['a', 'b', 'c', 'd','e', 'outpressure', 'inpressure']\n"
      ],
      "execution_count": 15,
      "outputs": []
    },
    {
      "cell_type": "markdown",
      "metadata": {
        "id": "5n3k8_e7AcXJ"
      },
      "source": [
        "# 4 Running the algorithm for machine failure\n",
        "## 4.1 Data splitting into training and testing"
      ]
    },
    {
      "cell_type": "code",
      "metadata": {
        "colab": {
          "base_uri": "https://localhost:8080/"
        },
        "id": "Q11ZQuuLAjiA",
        "outputId": "793bceb4-964e-4594-a2d7-441cd3f0ee52"
      },
      "source": [
        "# Training and testing data split\n",
        "train_x, test_x, train_y, test_y = train_test_split(data_df[col_to_retain], data_df['fail'], train_size=0.7)\n",
        "print(\"Train x count : \", len(train_x), len(train_x.columns.values))\n",
        "print(\"Train y count : \", len(train_y))\n",
        "\n",
        "print(\"Test x count : \", len(test_x), len(test_x.columns.values))\n",
        "print(\"Test y count : \", len(test_y))\n"
      ],
      "execution_count": 16,
      "outputs": [
        {
          "output_type": "stream",
          "text": [
            "Train x count :  660 7\n",
            "Train y count :  660\n",
            "Test x count :  284 7\n",
            "Test y count :  284\n"
          ],
          "name": "stdout"
        }
      ]
    },
    {
      "cell_type": "markdown",
      "metadata": {
        "id": "pdhBAvibPZ2h"
      },
      "source": [
        "## 5.2 Training the predictive model"
      ]
    },
    {
      "cell_type": "code",
      "metadata": {
        "colab": {
          "base_uri": "https://localhost:8080/"
        },
        "id": "uc5FinCSGbyB",
        "outputId": "590a3f8d-e84f-4ed0-e172-b1f5da4cd846"
      },
      "source": [
        "# Logistic regression model training\n",
        "trained_log_reg = train_log_reg(train_x, train_y)\n",
        "train_accuracy = model_accuracy(trained_log_reg, train_x, train_y)\n",
        "\n",
        "\n",
        "# Logistic regression model testing\n",
        "test_accuracy = model_accuracy(trained_log_reg, test_x, test_y)\n",
        "print (\"Training Accuracy : \", round(train_accuracy * 100, 2), \"%\")\n"
      ],
      "execution_count": 18,
      "outputs": [
        {
          "output_type": "stream",
          "text": [
            "Training Accuracy :  90.91 %\n"
          ],
          "name": "stdout"
        }
      ]
    },
    {
      "cell_type": "markdown",
      "metadata": {
        "id": "5x4LfcP2HPgZ"
      },
      "source": [
        "## 5.3 Scoring test data"
      ]
    },
    {
      "cell_type": "code",
      "metadata": {
        "colab": {
          "base_uri": "https://localhost:8080/"
        },
        "id": "mxESMreeHT6J",
        "outputId": "ac9deb9b-2942-4983-b8d6-f2a29a4c9efa"
      },
      "source": [
        "# Accuracy of model : Constructing confusion matrix for test data and score\n",
        "\n",
        "actfail = test_y.values\n",
        "predictfail = score_data(trained_log_reg, test_x)\n",
        "# Calculate the absolute errors\n",
        "errors = abs(predictfail - actfail)\n",
        "# Print out the mean absolute error (mae)\n",
        "print('Mean Absolute Error:', round(np.mean(errors), 2))\n"
      ],
      "execution_count": 19,
      "outputs": [
        {
          "output_type": "stream",
          "text": [
            "Mean Absolute Error: 0.07\n"
          ],
          "name": "stdout"
        }
      ]
    },
    {
      "cell_type": "markdown",
      "metadata": {
        "id": "x9Nc9lCgHoAh"
      },
      "source": [
        "# 6 Prediction accuracy analysis using confusion matrix"
      ]
    },
    {
      "cell_type": "code",
      "metadata": {
        "colab": {
          "base_uri": "https://localhost:8080/"
        },
        "id": "xk1AOz5_Huza",
        "outputId": "919a4926-8668-4813-f8f9-01544e052c25"
      },
      "source": [
        "# Printing actual fails and predicted fail\n",
        "confusion_matrix(actfail, predictfail)"
      ],
      "execution_count": 20,
      "outputs": [
        {
          "output_type": "stream",
          "text": [
            "Actual, Predicted Observations:   284 284\n",
            "--------------------------------------------\n",
            "Confusion Matrix\n",
            "--------------------------------------------\n",
            "               Predicted N Predicted Y\n",
            "Actual N       160            9\n",
            "Actual Y       12            103\n",
            "--------------------------------------------\n",
            "Total observations  :   284\n",
            "False Positives     :   9\n",
            "False Negatives     :   12\n",
            "Overall Accuracy    :   92.61 %\n",
            "Sensitivity/Recall  :   89.57 %\n",
            "Specificity         :   94.67 %\n",
            "Precision           :   91.96 %\n",
            "--------------------------------------------\n"
          ],
          "name": "stdout"
        }
      ]
    },
    {
      "cell_type": "markdown",
      "metadata": {
        "id": "zAsW5BTcNvZi"
      },
      "source": [
        "# 7 Applying Random Forest"
      ]
    },
    {
      "cell_type": "code",
      "metadata": {
        "colab": {
          "base_uri": "https://localhost:8080/"
        },
        "id": "x_y6qtv1-tO3",
        "outputId": "8b31387a-c724-4e97-cabd-28a1beb47b28"
      },
      "source": [
        "# Random Forest model training\n",
        "trained_rf = train_rf(train_x, train_y)\n",
        "train_accuracy = model_accuracy(trained_rf, train_x, train_y)\n",
        "\n",
        "\n",
        "# Logistic regression model testing\n",
        "test_accuracy = model_accuracy(trained_rf, test_x, test_y)\n",
        "print (\"Training Accuracy : \", round(train_accuracy * 100, 2), \"%\")"
      ],
      "execution_count": 28,
      "outputs": [
        {
          "output_type": "stream",
          "text": [
            "Training Accuracy :  95.27 %\n"
          ],
          "name": "stdout"
        }
      ]
    },
    {
      "cell_type": "markdown",
      "metadata": {
        "id": "ni523s95GW-e"
      },
      "source": [
        "## 7.1 Training the predictive model"
      ]
    },
    {
      "cell_type": "code",
      "metadata": {
        "colab": {
          "base_uri": "https://localhost:8080/"
        },
        "id": "R0osPfayOVtP",
        "outputId": "86a925a3-0d7b-4850-fb48-50badb217679"
      },
      "source": [
        "# Use the forest's predict method on the test data\n",
        "predictions = rf.predict(test_x)\n",
        "# Calculate the absolute errors\n",
        "errors = abs(predictions - test_y)\n",
        "# Print out the mean absolute error (mae)\n",
        "print('Mean Absolute Error:', round(np.mean(errors), 2))\n"
      ],
      "execution_count": 22,
      "outputs": [
        {
          "output_type": "stream",
          "text": [
            "Mean Absolute Error: 0.13\n"
          ],
          "name": "stdout"
        }
      ]
    }
  ]
}